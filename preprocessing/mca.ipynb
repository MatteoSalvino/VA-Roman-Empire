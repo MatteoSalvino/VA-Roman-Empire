{
 "cells": [
  {
   "cell_type": "code",
   "execution_count": 2,
   "metadata": {
    "scrolled": true
   },
   "outputs": [],
   "source": [
    "import pandas as pd\n",
    "\n",
    "# read and parse dataset\n",
    "X = pd.read_csv('battles.csv')\n",
    "X.head()"
   ]
  },
  {
   "cell_type": "code",
   "execution_count": null,
   "metadata": {},
   "outputs": [],
   "source": [
    "import prince\n",
    "\n",
    "# execute MCA on data\n",
    "mca = prince.MCA(n_components=2, n_iter=30, copy=True, check_input=True, engine='auto', random_state=42)\n",
    "mca = mca.fit(X)"
   ]
  },
  {
   "cell_type": "code",
   "execution_count": null,
   "metadata": {},
   "outputs": [],
   "source": [
    "# show coordinates\n",
    "mca.row_coordinates(X).head()"
   ]
  },
  {
   "cell_type": "code",
   "execution_count": null,
   "metadata": {},
   "outputs": [],
   "source": [
    "from matplotlib import pyplot as plt\n",
    "\n",
    "# plot result of MCA\n",
    "x, y = mca.row_coordinates(X)[0], mca.row_coordinates(X)[1] \n",
    "\n",
    "plt.plot(x, y,\n",
    "         'o',\n",
    "         markersize=7,\n",
    "         color='green',\n",
    "         alpha=0.5)\n",
    "plt.ylabel('Y2')\n",
    "plt.xlim([-0.5,2.5])\n",
    "plt.ylim([-1.5,1.5])\n",
    "plt.show()"
   ]
  }
 ],
 "metadata": {
  "kernelspec": {
   "display_name": "Python 3",
   "language": "python",
   "name": "python3"
  },
  "language_info": {
   "codemirror_mode": {
    "name": "ipython",
    "version": 3
   },
   "file_extension": ".py",
   "mimetype": "text/x-python",
   "name": "python",
   "nbconvert_exporter": "python",
   "pygments_lexer": "ipython3",
   "version": "3.8.2"
  }
 },
 "nbformat": 4,
 "nbformat_minor": 4
}
