{
 "cells": [
  {
   "cell_type": "code",
   "execution_count": null,
   "metadata": {},
   "outputs": [],
   "source": [
    "import reverse_geocoder as rg\n",
    "import numpy as np\n",
    "\n",
    "# read and parse dataset\n",
    "X = pd.read_csv('battles.csv', usecols=[9, 10])\n",
    "X.head()"
   ]
  },
  {
   "cell_type": "code",
   "execution_count": null,
   "metadata": {},
   "outputs": [],
   "source": [
    "# reverse geocoder\n",
    "coordinates = []\n",
    "indices = []\n",
    "for index, row in X.iterrows():\n",
    "    lat = row['latitude']\n",
    "    long = row['longitude']\n",
    "    if np.isnan(lat) or np.isnan(long):\n",
    "        indices.append(index)\n",
    "    else:\n",
    "        coordinates.append((lat, long))\n",
    "\n",
    "# filter countries\n",
    "countries = []\n",
    "ret = rg.search(coordinates)\n",
    "for r in ret:\n",
    "    cc = r['cc']\n",
    "    countries.append(cc)\n",
    "\n",
    "for i in indices:\n",
    "    countries.insert(i, '-')"
   ]
  },
  {
   "cell_type": "code",
   "execution_count": null,
   "metadata": {},
   "outputs": [],
   "source": [
    "# update dataset\n",
    "X['country'] = countries\n",
    "X.head()"
   ]
  }
 ],
 "metadata": {
  "kernelspec": {
   "display_name": "Python 3",
   "language": "python",
   "name": "python3"
  },
  "language_info": {
   "codemirror_mode": {
    "name": "ipython",
    "version": 3
   },
   "file_extension": ".py",
   "mimetype": "text/x-python",
   "name": "python",
   "nbconvert_exporter": "python",
   "pygments_lexer": "ipython3",
   "version": "3.8.2"
  }
 },
 "nbformat": 4,
 "nbformat_minor": 4
}
